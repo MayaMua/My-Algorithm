{
 "cells": [
  {
   "cell_type": "markdown",
   "metadata": {},
   "source": [
    "### 1. Fibonacci sequence  "
   ]
  },
  {
   "cell_type": "code",
   "execution_count": 3,
   "metadata": {},
   "outputs": [
    {
     "name": "stdout",
     "output_type": "stream",
     "text": [
      "2\n"
     ]
    }
   ],
   "source": [
    "def fib_dp(n):\n",
    "    a,b = 1,1\n",
    "    c = 0\n",
    "    # f(n) = f(n-1)+f(n-2)\n",
    "    for i in range(2,n):\n",
    "        c = a + b\n",
    "        a = b\n",
    "        b = c\n",
    "    return c\n",
    "\n",
    "print (fib_dp(3))\n"
   ]
  },
  {
   "cell_type": "markdown",
   "metadata": {},
   "source": [
    "### 2：  Edit Distance (编辑距离）\n",
    "\n",
    "编辑距离用来计算两个字符串之间的最短距离，这里涉及到三个不通过的操作，add, delete和replace. 每一个操作我们假定需要1各单位的cost. \n",
    "\n",
    "例子： \n",
    "- \"apple\", \"appl\"  dist=1\n",
    "- \"machine\", \"macaide\" dist = 2\n",
    "- \"mach\", \"aaach\"  dist=2"
   ]
  },
  {
   "cell_type": "code",
   "execution_count": 9,
   "metadata": {},
   "outputs": [
    {
     "name": "stdout",
     "output_type": "stream",
     "text": [
      "7\n",
      "2\n"
     ]
    }
   ],
   "source": [
    "# 基于动态规划的解法\n",
    "def edit_dist(str1, str2):\n",
    "    \n",
    "    # m，n分别字符串str1和str2的长度\n",
    "    m, n = len(str1), len(str2)\n",
    "    \n",
    "    # 构建二位数组来存储子问题（sub-problem)的答案 \n",
    "    # dp 等于课程里讲到的C\n",
    "    dp = [[0 for x in range(n+1)] for x in range(m+1)] \n",
    "\n",
    "    print(len(dp[1]))\n",
    "    # 利用动态规划算法，填充数组\n",
    "    for i in range(m+1): \n",
    "        for j in range(n+1): \n",
    "  \n",
    "            # 假设第一个字符串为空，则转换的代价为j (j次的插入)\n",
    "            if i == 0: \n",
    "                dp[i][j] = j    \n",
    "              \n",
    "            # 同样的，假设第二个字符串为空，则转换的代价为i (i次的插入)\n",
    "            elif j == 0:\n",
    "                dp[i][j] = i\n",
    "            \n",
    "            # 如果最后一个字符相等，就不会产生代价\n",
    "            elif str1[i-1] == str2[j-1]: \n",
    "                dp[i][j] = dp[i-1][j-1] \n",
    "  \n",
    "            # 如果最后一个字符不一样，则考虑多种可能性，并且选择其中最小的值\n",
    "            # 假设每种操作的COST等于1\n",
    "            else: \n",
    "                dp[i][j] = 1 + min(dp[i][j-1],        # Insert \n",
    "                                   dp[i-1][j],        # Remove \n",
    "                                   dp[i-1][j-1])      # Replace \n",
    "    return dp[m][n] \n",
    "\n",
    "print (edit_dist(\"apple\", \"applld\"))"
   ]
  },
  {
   "cell_type": "markdown",
   "metadata": {},
   "source": [
    "### 3. Maximum continuous subsequence problem\n",
    "给定数组 a1, a2,... am, 找出一个子序列使得它的相加之和最大。"
   ]
  },
  {
   "cell_type": "code",
   "execution_count": 11,
   "metadata": {},
   "outputs": [
    {
     "name": "stdout",
     "output_type": "stream",
     "text": [
      "7\n",
      "11\n"
     ]
    }
   ],
   "source": [
    "import numpy as np\n",
    "import sys\n",
    "\n",
    "def max_subseq_sum(arr):\n",
    "    max_so_far = -sys.maxsize\n",
    "    max_current = 0\n",
    "    \n",
    "    for i in range(0, len(arr)):\n",
    "        if max_current + arr[i] >= arr[i]:\n",
    "            max_current = max_current + arr[i]\n",
    "        else:\n",
    "            max_current = arr[i]\n",
    "        \n",
    "        if max_so_far < max_current:\n",
    "            max_so_far = max_current\n",
    "        \n",
    "    return max_so_far\n",
    "    \n",
    "    \n",
    "print (max_subseq_sum(np.array([-2, -3, 4, -1, -2, 1, 5, -3])))\n",
    "print (max_subseq_sum(np.array([-1,1,2,3,4,-5,2,4])))"
   ]
  },
  {
   "cell_type": "markdown",
   "metadata": {},
   "source": [
    "### 4. Minimum coin change problem\n",
    "假如有m个不同面值的硬币，它们的面值分别为 1=v1 < v2 < v3,.. <vm。 现在希望把价值为V的纸钞换成硬币，但要求是使用越少量的硬币来换取，如何做？"
   ]
  },
  {
   "cell_type": "code",
   "execution_count": 4,
   "metadata": {},
   "outputs": [
    {
     "name": "stdout",
     "output_type": "stream",
     "text": [
      "3\n"
     ]
    }
   ],
   "source": [
    "# m是硬币的种类，coins代表具体的面值，V是想换取的纸钞面值。 \n",
    "def minCoins(coins, n, C): \n",
    "    # coins: 硬币的面值\n",
    "    # m : 硬币的个数 = len(coins)\n",
    "    # C: 需要换的纸币面值\n",
    "      \n",
    "    # table[i] 存储换取面值为i的纸币，需要用到的最少量的硬币数\n",
    "    table = [0 for i in range(C + 1)] \n",
    "  \n",
    "    # Base case \n",
    "    table[0] = 0\n",
    "  \n",
    "    # 初始化 \n",
    "    for i in range(1, V + 1): \n",
    "        table[i] = sys.maxsize \n",
    "  \n",
    "    # 对于每一种价值i来计算，最少用多少硬币可以换取？\n",
    "    for i in range(1, C + 1): \n",
    "        \n",
    "        # Go through all coins smaller than i \n",
    "        for j in range(n): \n",
    "            if (coins[j] <= i): \n",
    "                sub_res = table[i - coins[j]] \n",
    "                if (sub_res != sys.maxsize and \n",
    "                    sub_res + 1 < table[i]): \n",
    "                    table[i] = sub_res + 1\n",
    "    return table[C] \n",
    "  \n",
    "arr = [1, 2, 3] \n",
    "m = len(arr) \n",
    "n = 7\n",
    "print(minCoins(arr, m, n)) "
   ]
  },
  {
   "cell_type": "markdown",
   "metadata": {},
   "source": [
    "### Dynamic Time Warpping\n",
    "\n",
    "这个算法可以用来计算两个序列之间的距离，比如可以用来做语音识别、股票相似K线的计算，任意不等长序列之间的距离计算。这个问题也叫做sequential alignment. 其实就是用来找出两个序列的alignment.\n",
    "\n",
    "在DTW的实现中，需要考虑几点：\n",
    "1. 起始点与终止点： 一般起始点采用(0,0), 终止点采用 (len(s), len(t))\n",
    "2. Local continuity:  在局部上做alignment的时候可以稍微灵活一些，比如跳过1个value等。 \n",
    "3. Global Continuity:  从全局的角度设定的限制条件\n",
    "4. 另外就是每一个路径的权重\n"
   ]
  },
  {
   "cell_type": "code",
   "execution_count": 6,
   "metadata": {},
   "outputs": [
    {
     "data": {
      "text/plain": [
       "3.0"
      ]
     },
     "execution_count": 6,
     "metadata": {},
     "output_type": "execute_result"
    }
   ],
   "source": [
    "import numpy as np\n",
    "import sys\n",
    "\n",
    "# 定义距离\n",
    "def euc_dist(v1, v2):\n",
    "    return np.abs(v1-v2)\n",
    "\n",
    "# DTW的核心过程，实现动态规划\n",
    "def dtw(s, t):\n",
    "    \"\"\"\n",
    "    s: source sequence\n",
    "    t: target sequence\n",
    "    \"\"\"\n",
    "    m, n = len(s), len(t)\n",
    "    dtw = np.zeros((m, n))\n",
    "    dtw.fill(sys.maxsize)\n",
    "    \n",
    "    # 初始化过程\n",
    "    dtw[0,0] = euc_dist(s[0], t[0])\n",
    "    for i in range (1,m):\n",
    "        dtw[i,0] = dtw[i-1,0] + euc_dist(s[i], t[0])\n",
    "    for i in range (1,n):\n",
    "        dtw[0,i] = dtw[0,i-1] + euc_dist(s[0], t[i])\n",
    "    \n",
    "    # 核心动态规划流程，此动态规划的过程依赖于上面的图\n",
    "    for i in range(1, m): # dp[][]\n",
    "        # for j in range(1,n)\n",
    "        for j in range(max(1, i- 10), min(n, i+10)):\n",
    "            cost = euc_dist(s[i], t[j])\n",
    "            ds = []\n",
    "            ds.append(cost+dtw[i-1, j])\n",
    "            ds.append(cost+dtw[i,j-1])\n",
    "            ds.append(cost+dtw[i-1,j-1])\n",
    "            ds.append(cost + dtw[i-1,j-2] if j>1 else sys.maxsize)\n",
    "            ds.append(cost+dtw[i-2,j-1] if i>2 else sys.maxsize)\n",
    "             \n",
    "            dtw[i,j] = min(ds)\n",
    "    \n",
    "    return dtw[m-1, n-1]\n",
    "\n",
    "\n",
    "dtw([5,6,9], [5,6,7])"
   ]
  },
  {
   "cell_type": "code",
   "execution_count": null,
   "metadata": {},
   "outputs": [],
   "source": []
  },
  {
   "cell_type": "code",
   "execution_count": null,
   "metadata": {},
   "outputs": [],
   "source": []
  },
  {
   "cell_type": "code",
   "execution_count": null,
   "metadata": {},
   "outputs": [],
   "source": []
  }
 ],
 "metadata": {
  "kernelspec": {
   "display_name": "Python 3",
   "language": "python",
   "name": "python3"
  },
  "language_info": {
   "codemirror_mode": {
    "name": "ipython",
    "version": 3
   },
   "file_extension": ".py",
   "mimetype": "text/x-python",
   "name": "python",
   "nbconvert_exporter": "python",
   "pygments_lexer": "ipython3",
   "version": "3.7.7"
  }
 },
 "nbformat": 4,
 "nbformat_minor": 2
}
